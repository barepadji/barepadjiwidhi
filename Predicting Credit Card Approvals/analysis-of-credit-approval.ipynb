{
 "cells": [
  {
   "cell_type": "markdown",
   "metadata": {
    "papermill": {
     "duration": 0.026185,
     "end_time": "2021-03-11T05:09:43.262238",
     "exception": false,
     "start_time": "2021-03-11T05:09:43.236053",
     "status": "completed"
    },
    "tags": []
   },
   "source": [
    "## 1. Credit card applications\n",
    "<p>Commercial banks receive <em>a lot</em> of applications for credit cards. Many of them get rejected for many reasons, like high loan balances, low income levels, or too many inquiries on an individual's credit report, for example. Manually analyzing these applications is mundane, error-prone, and time-consuming (and time is money!). Luckily, this task can be automated with the power of machine learning and pretty much every commercial bank does so nowadays. In this notebook, we will build an automatic credit card approval predictor using machine learning techniques, just like the real banks do.</p>\n",
    "<p><img src=\"https://assets.datacamp.com/production/project_558/img/credit_card.jpg\" alt=\"Credit card being held in hand\"></p>\n",
    "<p>We'll use the <a href=\"http://archive.ics.uci.edu/ml/datasets/credit+approval\">Credit Card Approval dataset</a> from the UCI Machine Learning Repository. The structure of this notebook is as follows:</p>"
   ]
  },
  {
   "cell_type": "markdown",
   "metadata": {
    "papermill": {
     "duration": 0.024558,
     "end_time": "2021-03-11T05:09:43.311811",
     "exception": false,
     "start_time": "2021-03-11T05:09:43.287253",
     "status": "completed"
    },
    "tags": []
   },
   "source": [
    "# 2. Import Libraries"
   ]
  },
  {
   "cell_type": "code",
   "execution_count": 1,
   "metadata": {
    "_cell_guid": "b1076dfc-b9ad-4769-8c92-a6c4dae69d19",
    "_uuid": "8f2839f25d086af736a60e9eeb907d3b93b6e0e5",
    "execution": {
     "iopub.execute_input": "2021-03-11T05:09:43.372451Z",
     "iopub.status.busy": "2021-03-11T05:09:43.371536Z",
     "iopub.status.idle": "2021-03-11T05:09:44.484758Z",
     "shell.execute_reply": "2021-03-11T05:09:44.483926Z"
    },
    "papermill": {
     "duration": 1.147191,
     "end_time": "2021-03-11T05:09:44.484990",
     "exception": false,
     "start_time": "2021-03-11T05:09:43.337799",
     "status": "completed"
    },
    "tags": []
   },
   "outputs": [
    {
     "name": "stdout",
     "output_type": "stream",
     "text": [
      "/kaggle/input/crx-uci-ml-repository/crx.data\n"
     ]
    }
   ],
   "source": [
    "# This Python 3 environment comes with many helpful analytics libraries installed\n",
    "# It is defined by the kaggle/python Docker image: https://github.com/kaggle/docker-python\n",
    "# For example, here's several helpful packages to load\n",
    "\n",
    "import numpy as np # linear algebra\n",
    "import pandas as pd # data processing, CSV file I/O (e.g. pd.read_csv)\n",
    "import matplotlib.pyplot as plt # for data visualization purposes\n",
    "import seaborn as sns # for statistical data visualization\n",
    "%matplotlib inline\n",
    "\n",
    "# Input data files are available in the read-only \"../input/\" directory\n",
    "# For example, running this (by clicking run or pressing Shift+Enter) will list all files under the input directory\n",
    "\n",
    "import os\n",
    "for dirname, _, filenames in os.walk('/kaggle/input'):\n",
    "    for filename in filenames:\n",
    "        print(os.path.join(dirname, filename))\n",
    "\n",
    "# You can write up to 20GB to the current directory (/kaggle/working/) that gets preserved as output when you create a version using \"Save & Run All\" \n",
    "# You can also write temporary files to /kaggle/temp/, but they won't be saved outside of the current session"
   ]
  },
  {
   "cell_type": "markdown",
   "metadata": {
    "papermill": {
     "duration": 0.02538,
     "end_time": "2021-03-11T05:09:44.538154",
     "exception": false,
     "start_time": "2021-03-11T05:09:44.512774",
     "status": "completed"
    },
    "tags": []
   },
   "source": [
    "# 3. Import Dataset"
   ]
  },
  {
   "cell_type": "code",
   "execution_count": 2,
   "metadata": {
    "execution": {
     "iopub.execute_input": "2021-03-11T05:09:44.596948Z",
     "iopub.status.busy": "2021-03-11T05:09:44.596107Z",
     "iopub.status.idle": "2021-03-11T05:09:44.670383Z",
     "shell.execute_reply": "2021-03-11T05:09:44.669603Z"
    },
    "papermill": {
     "duration": 0.106604,
     "end_time": "2021-03-11T05:09:44.670548",
     "exception": false,
     "start_time": "2021-03-11T05:09:44.563944",
     "status": "completed"
    },
    "tags": []
   },
   "outputs": [
    {
     "data": {
      "text/html": [
       "<div>\n",
       "<style scoped>\n",
       "    .dataframe tbody tr th:only-of-type {\n",
       "        vertical-align: middle;\n",
       "    }\n",
       "\n",
       "    .dataframe tbody tr th {\n",
       "        vertical-align: top;\n",
       "    }\n",
       "\n",
       "    .dataframe thead th {\n",
       "        text-align: right;\n",
       "    }\n",
       "</style>\n",
       "<table border=\"1\" class=\"dataframe\">\n",
       "  <thead>\n",
       "    <tr style=\"text-align: right;\">\n",
       "      <th></th>\n",
       "      <th>Male</th>\n",
       "      <th>Age</th>\n",
       "      <th>Debt</th>\n",
       "      <th>Married</th>\n",
       "      <th>BankCustomer</th>\n",
       "      <th>EducationLevel</th>\n",
       "      <th>Ethnicity</th>\n",
       "      <th>YearsEmployed</th>\n",
       "      <th>PriorDefault</th>\n",
       "      <th>Employed</th>\n",
       "      <th>CreditScore</th>\n",
       "      <th>DriversLicense</th>\n",
       "      <th>Citizen</th>\n",
       "      <th>ZipCode</th>\n",
       "      <th>Income</th>\n",
       "      <th>Approved</th>\n",
       "    </tr>\n",
       "  </thead>\n",
       "  <tbody>\n",
       "    <tr>\n",
       "      <th>0</th>\n",
       "      <td>b</td>\n",
       "      <td>30.83</td>\n",
       "      <td>0.000</td>\n",
       "      <td>u</td>\n",
       "      <td>g</td>\n",
       "      <td>w</td>\n",
       "      <td>v</td>\n",
       "      <td>1.25</td>\n",
       "      <td>t</td>\n",
       "      <td>t</td>\n",
       "      <td>1</td>\n",
       "      <td>f</td>\n",
       "      <td>g</td>\n",
       "      <td>00202</td>\n",
       "      <td>0</td>\n",
       "      <td>+</td>\n",
       "    </tr>\n",
       "    <tr>\n",
       "      <th>1</th>\n",
       "      <td>a</td>\n",
       "      <td>58.67</td>\n",
       "      <td>4.460</td>\n",
       "      <td>u</td>\n",
       "      <td>g</td>\n",
       "      <td>q</td>\n",
       "      <td>h</td>\n",
       "      <td>3.04</td>\n",
       "      <td>t</td>\n",
       "      <td>t</td>\n",
       "      <td>6</td>\n",
       "      <td>f</td>\n",
       "      <td>g</td>\n",
       "      <td>00043</td>\n",
       "      <td>560</td>\n",
       "      <td>+</td>\n",
       "    </tr>\n",
       "    <tr>\n",
       "      <th>2</th>\n",
       "      <td>a</td>\n",
       "      <td>24.50</td>\n",
       "      <td>0.500</td>\n",
       "      <td>u</td>\n",
       "      <td>g</td>\n",
       "      <td>q</td>\n",
       "      <td>h</td>\n",
       "      <td>1.50</td>\n",
       "      <td>t</td>\n",
       "      <td>f</td>\n",
       "      <td>0</td>\n",
       "      <td>f</td>\n",
       "      <td>g</td>\n",
       "      <td>00280</td>\n",
       "      <td>824</td>\n",
       "      <td>+</td>\n",
       "    </tr>\n",
       "    <tr>\n",
       "      <th>3</th>\n",
       "      <td>b</td>\n",
       "      <td>27.83</td>\n",
       "      <td>1.540</td>\n",
       "      <td>u</td>\n",
       "      <td>g</td>\n",
       "      <td>w</td>\n",
       "      <td>v</td>\n",
       "      <td>3.75</td>\n",
       "      <td>t</td>\n",
       "      <td>t</td>\n",
       "      <td>5</td>\n",
       "      <td>t</td>\n",
       "      <td>g</td>\n",
       "      <td>00100</td>\n",
       "      <td>3</td>\n",
       "      <td>+</td>\n",
       "    </tr>\n",
       "    <tr>\n",
       "      <th>4</th>\n",
       "      <td>b</td>\n",
       "      <td>20.17</td>\n",
       "      <td>5.625</td>\n",
       "      <td>u</td>\n",
       "      <td>g</td>\n",
       "      <td>w</td>\n",
       "      <td>v</td>\n",
       "      <td>1.71</td>\n",
       "      <td>t</td>\n",
       "      <td>f</td>\n",
       "      <td>0</td>\n",
       "      <td>f</td>\n",
       "      <td>s</td>\n",
       "      <td>00120</td>\n",
       "      <td>0</td>\n",
       "      <td>+</td>\n",
       "    </tr>\n",
       "  </tbody>\n",
       "</table>\n",
       "</div>"
      ],
      "text/plain": [
       "  Male    Age   Debt Married BankCustomer EducationLevel Ethnicity  \\\n",
       "0    b  30.83  0.000       u            g              w         v   \n",
       "1    a  58.67  4.460       u            g              q         h   \n",
       "2    a  24.50  0.500       u            g              q         h   \n",
       "3    b  27.83  1.540       u            g              w         v   \n",
       "4    b  20.17  5.625       u            g              w         v   \n",
       "\n",
       "   YearsEmployed PriorDefault Employed  CreditScore DriversLicense Citizen  \\\n",
       "0           1.25            t        t            1              f       g   \n",
       "1           3.04            t        t            6              f       g   \n",
       "2           1.50            t        f            0              f       g   \n",
       "3           3.75            t        t            5              t       g   \n",
       "4           1.71            t        f            0              f       s   \n",
       "\n",
       "  ZipCode  Income Approved  \n",
       "0   00202       0        +  \n",
       "1   00043     560        +  \n",
       "2   00280     824        +  \n",
       "3   00100       3        +  \n",
       "4   00120       0        +  "
      ]
     },
     "execution_count": 2,
     "metadata": {},
     "output_type": "execute_result"
    }
   ],
   "source": [
    "data = '/kaggle/input/crx-uci-ml-repository/crx.data'\n",
    "df = pd.read_csv(data, header=None)\n",
    "df.columns = ['Male','Age','Debt','Married','BankCustomer','EducationLevel',\n",
    "'Ethnicity','YearsEmployed','PriorDefault','Employed','CreditScore',\n",
    "'DriversLicense','Citizen','ZipCode','Income','Approved']\n",
    "df.head()"
   ]
  },
  {
   "cell_type": "markdown",
   "metadata": {
    "papermill": {
     "duration": 0.026683,
     "end_time": "2021-03-11T05:09:44.723880",
     "exception": false,
     "start_time": "2021-03-11T05:09:44.697197",
     "status": "completed"
    },
    "tags": []
   },
   "source": [
    "# 4. Exploratory Data Analysis"
   ]
  },
  {
   "cell_type": "code",
   "execution_count": 3,
   "metadata": {
    "execution": {
     "iopub.execute_input": "2021-03-11T05:09:44.785892Z",
     "iopub.status.busy": "2021-03-11T05:09:44.784962Z",
     "iopub.status.idle": "2021-03-11T05:09:44.789715Z",
     "shell.execute_reply": "2021-03-11T05:09:44.788685Z"
    },
    "papermill": {
     "duration": 0.03981,
     "end_time": "2021-03-11T05:09:44.789924",
     "exception": false,
     "start_time": "2021-03-11T05:09:44.750114",
     "status": "completed"
    },
    "tags": []
   },
   "outputs": [
    {
     "name": "stdout",
     "output_type": "stream",
     "text": [
      "Data shape: (690, 16)\n"
     ]
    }
   ],
   "source": [
    "# view dimensions of dataset\n",
    "print('Data shape:', df.shape)"
   ]
  },
  {
   "cell_type": "markdown",
   "metadata": {
    "papermill": {
     "duration": 0.025913,
     "end_time": "2021-03-11T05:09:44.844821",
     "exception": false,
     "start_time": "2021-03-11T05:09:44.818908",
     "status": "completed"
    },
    "tags": []
   },
   "source": [
    "We can see that there are 690 instances and 16 attributes in the data set."
   ]
  },
  {
   "cell_type": "code",
   "execution_count": 4,
   "metadata": {
    "execution": {
     "iopub.execute_input": "2021-03-11T05:09:44.901642Z",
     "iopub.status.busy": "2021-03-11T05:09:44.900945Z",
     "iopub.status.idle": "2021-03-11T05:09:44.923421Z",
     "shell.execute_reply": "2021-03-11T05:09:44.922713Z"
    },
    "papermill": {
     "duration": 0.052046,
     "end_time": "2021-03-11T05:09:44.923573",
     "exception": false,
     "start_time": "2021-03-11T05:09:44.871527",
     "status": "completed"
    },
    "tags": []
   },
   "outputs": [
    {
     "name": "stdout",
     "output_type": "stream",
     "text": [
      "<class 'pandas.core.frame.DataFrame'>\n",
      "RangeIndex: 690 entries, 0 to 689\n",
      "Data columns (total 16 columns):\n",
      " #   Column          Non-Null Count  Dtype  \n",
      "---  ------          --------------  -----  \n",
      " 0   Male            690 non-null    object \n",
      " 1   Age             690 non-null    object \n",
      " 2   Debt            690 non-null    float64\n",
      " 3   Married         690 non-null    object \n",
      " 4   BankCustomer    690 non-null    object \n",
      " 5   EducationLevel  690 non-null    object \n",
      " 6   Ethnicity       690 non-null    object \n",
      " 7   YearsEmployed   690 non-null    float64\n",
      " 8   PriorDefault    690 non-null    object \n",
      " 9   Employed        690 non-null    object \n",
      " 10  CreditScore     690 non-null    int64  \n",
      " 11  DriversLicense  690 non-null    object \n",
      " 12  Citizen         690 non-null    object \n",
      " 13  ZipCode         690 non-null    object \n",
      " 14  Income          690 non-null    int64  \n",
      " 15  Approved        690 non-null    object \n",
      "dtypes: float64(2), int64(2), object(12)\n",
      "memory usage: 86.4+ KB\n"
     ]
    }
   ],
   "source": [
    "# view summary of dataset\n",
    "\n",
    "df.info()"
   ]
  },
  {
   "cell_type": "code",
   "execution_count": 5,
   "metadata": {
    "execution": {
     "iopub.execute_input": "2021-03-11T05:09:44.992422Z",
     "iopub.status.busy": "2021-03-11T05:09:44.991652Z",
     "iopub.status.idle": "2021-03-11T05:09:45.001009Z",
     "shell.execute_reply": "2021-03-11T05:09:45.000416Z"
    },
    "papermill": {
     "duration": 0.050002,
     "end_time": "2021-03-11T05:09:45.001167",
     "exception": false,
     "start_time": "2021-03-11T05:09:44.951165",
     "status": "completed"
    },
    "tags": []
   },
   "outputs": [],
   "source": [
    "df = df.replace('?',np.nan)"
   ]
  },
  {
   "cell_type": "code",
   "execution_count": 6,
   "metadata": {
    "execution": {
     "iopub.execute_input": "2021-03-11T05:09:45.087529Z",
     "iopub.status.busy": "2021-03-11T05:09:45.086507Z",
     "iopub.status.idle": "2021-03-11T05:09:45.091663Z",
     "shell.execute_reply": "2021-03-11T05:09:45.090316Z"
    },
    "papermill": {
     "duration": 0.049646,
     "end_time": "2021-03-11T05:09:45.091911",
     "exception": false,
     "start_time": "2021-03-11T05:09:45.042265",
     "status": "completed"
    },
    "tags": []
   },
   "outputs": [],
   "source": [
    "#Converting type of TotalCharges to float\n",
    "df['Age'] = df['Age'].astype(float)"
   ]
  },
  {
   "cell_type": "markdown",
   "metadata": {
    "papermill": {
     "duration": 0.027981,
     "end_time": "2021-03-11T05:09:45.155227",
     "exception": false,
     "start_time": "2021-03-11T05:09:45.127246",
     "status": "completed"
    },
    "tags": []
   },
   "source": [
    "### Categorical Data"
   ]
  },
  {
   "cell_type": "code",
   "execution_count": 7,
   "metadata": {
    "execution": {
     "iopub.execute_input": "2021-03-11T05:09:45.219975Z",
     "iopub.status.busy": "2021-03-11T05:09:45.219273Z",
     "iopub.status.idle": "2021-03-11T05:09:45.224106Z",
     "shell.execute_reply": "2021-03-11T05:09:45.223574Z"
    },
    "papermill": {
     "duration": 0.040157,
     "end_time": "2021-03-11T05:09:45.224259",
     "exception": false,
     "start_time": "2021-03-11T05:09:45.184102",
     "status": "completed"
    },
    "tags": []
   },
   "outputs": [
    {
     "name": "stdout",
     "output_type": "stream",
     "text": [
      "There are 11 categorical variables\n",
      "\n",
      "The categorical variables are :\n",
      "\n",
      " ['Male', 'Married', 'BankCustomer', 'EducationLevel', 'Ethnicity', 'PriorDefault', 'Employed', 'DriversLicense', 'Citizen', 'ZipCode', 'Approved']\n"
     ]
    }
   ],
   "source": [
    "# find categorical variables\n",
    "\n",
    "categorical = [var for var in df.columns if df[var].dtype=='O']\n",
    "\n",
    "print('There are {} categorical variables\\n'.format(len(categorical)))\n",
    "\n",
    "print('The categorical variables are :\\n\\n', categorical)"
   ]
  },
  {
   "cell_type": "code",
   "execution_count": 8,
   "metadata": {
    "execution": {
     "iopub.execute_input": "2021-03-11T05:09:45.287950Z",
     "iopub.status.busy": "2021-03-11T05:09:45.286909Z",
     "iopub.status.idle": "2021-03-11T05:09:45.307300Z",
     "shell.execute_reply": "2021-03-11T05:09:45.306661Z"
    },
    "papermill": {
     "duration": 0.054926,
     "end_time": "2021-03-11T05:09:45.307455",
     "exception": false,
     "start_time": "2021-03-11T05:09:45.252529",
     "status": "completed"
    },
    "tags": []
   },
   "outputs": [
    {
     "data": {
      "text/html": [
       "<div>\n",
       "<style scoped>\n",
       "    .dataframe tbody tr th:only-of-type {\n",
       "        vertical-align: middle;\n",
       "    }\n",
       "\n",
       "    .dataframe tbody tr th {\n",
       "        vertical-align: top;\n",
       "    }\n",
       "\n",
       "    .dataframe thead th {\n",
       "        text-align: right;\n",
       "    }\n",
       "</style>\n",
       "<table border=\"1\" class=\"dataframe\">\n",
       "  <thead>\n",
       "    <tr style=\"text-align: right;\">\n",
       "      <th></th>\n",
       "      <th>Male</th>\n",
       "      <th>Married</th>\n",
       "      <th>BankCustomer</th>\n",
       "      <th>EducationLevel</th>\n",
       "      <th>Ethnicity</th>\n",
       "      <th>PriorDefault</th>\n",
       "      <th>Employed</th>\n",
       "      <th>DriversLicense</th>\n",
       "      <th>Citizen</th>\n",
       "      <th>ZipCode</th>\n",
       "      <th>Approved</th>\n",
       "    </tr>\n",
       "  </thead>\n",
       "  <tbody>\n",
       "    <tr>\n",
       "      <th>0</th>\n",
       "      <td>b</td>\n",
       "      <td>u</td>\n",
       "      <td>g</td>\n",
       "      <td>w</td>\n",
       "      <td>v</td>\n",
       "      <td>t</td>\n",
       "      <td>t</td>\n",
       "      <td>f</td>\n",
       "      <td>g</td>\n",
       "      <td>00202</td>\n",
       "      <td>+</td>\n",
       "    </tr>\n",
       "    <tr>\n",
       "      <th>1</th>\n",
       "      <td>a</td>\n",
       "      <td>u</td>\n",
       "      <td>g</td>\n",
       "      <td>q</td>\n",
       "      <td>h</td>\n",
       "      <td>t</td>\n",
       "      <td>t</td>\n",
       "      <td>f</td>\n",
       "      <td>g</td>\n",
       "      <td>00043</td>\n",
       "      <td>+</td>\n",
       "    </tr>\n",
       "    <tr>\n",
       "      <th>2</th>\n",
       "      <td>a</td>\n",
       "      <td>u</td>\n",
       "      <td>g</td>\n",
       "      <td>q</td>\n",
       "      <td>h</td>\n",
       "      <td>t</td>\n",
       "      <td>f</td>\n",
       "      <td>f</td>\n",
       "      <td>g</td>\n",
       "      <td>00280</td>\n",
       "      <td>+</td>\n",
       "    </tr>\n",
       "    <tr>\n",
       "      <th>3</th>\n",
       "      <td>b</td>\n",
       "      <td>u</td>\n",
       "      <td>g</td>\n",
       "      <td>w</td>\n",
       "      <td>v</td>\n",
       "      <td>t</td>\n",
       "      <td>t</td>\n",
       "      <td>t</td>\n",
       "      <td>g</td>\n",
       "      <td>00100</td>\n",
       "      <td>+</td>\n",
       "    </tr>\n",
       "    <tr>\n",
       "      <th>4</th>\n",
       "      <td>b</td>\n",
       "      <td>u</td>\n",
       "      <td>g</td>\n",
       "      <td>w</td>\n",
       "      <td>v</td>\n",
       "      <td>t</td>\n",
       "      <td>f</td>\n",
       "      <td>f</td>\n",
       "      <td>s</td>\n",
       "      <td>00120</td>\n",
       "      <td>+</td>\n",
       "    </tr>\n",
       "  </tbody>\n",
       "</table>\n",
       "</div>"
      ],
      "text/plain": [
       "  Male Married BankCustomer EducationLevel Ethnicity PriorDefault Employed  \\\n",
       "0    b       u            g              w         v            t        t   \n",
       "1    a       u            g              q         h            t        t   \n",
       "2    a       u            g              q         h            t        f   \n",
       "3    b       u            g              w         v            t        t   \n",
       "4    b       u            g              w         v            t        f   \n",
       "\n",
       "  DriversLicense Citizen ZipCode Approved  \n",
       "0              f       g   00202        +  \n",
       "1              f       g   00043        +  \n",
       "2              f       g   00280        +  \n",
       "3              t       g   00100        +  \n",
       "4              f       s   00120        +  "
      ]
     },
     "execution_count": 8,
     "metadata": {},
     "output_type": "execute_result"
    }
   ],
   "source": [
    "# view the categorical variables\n",
    "\n",
    "df[categorical].head()"
   ]
  },
  {
   "cell_type": "code",
   "execution_count": 9,
   "metadata": {
    "execution": {
     "iopub.execute_input": "2021-03-11T05:09:45.381800Z",
     "iopub.status.busy": "2021-03-11T05:09:45.380834Z",
     "iopub.status.idle": "2021-03-11T05:09:45.508493Z",
     "shell.execute_reply": "2021-03-11T05:09:45.507895Z"
    },
    "papermill": {
     "duration": 0.171474,
     "end_time": "2021-03-11T05:09:45.508647",
     "exception": false,
     "start_time": "2021-03-11T05:09:45.337173",
     "status": "completed"
    },
    "tags": []
   },
   "outputs": [
    {
     "data": {
      "text/html": [
       "<style  type=\"text/css\" >\n",
       "#T_3cd74_row0_col0{\n",
       "            background-color:  #67000d;\n",
       "            color:  #f1f1f1;\n",
       "        }#T_3cd74_row1_col0{\n",
       "            background-color:  #aa1016;\n",
       "            color:  #f1f1f1;\n",
       "        }#T_3cd74_row2_col0,#T_3cd74_row3_col0{\n",
       "            background-color:  #fc8161;\n",
       "            color:  #000000;\n",
       "        }#T_3cd74_row4_col0,#T_3cd74_row5_col0{\n",
       "            background-color:  #fff5f0;\n",
       "            color:  #000000;\n",
       "        }</style><table id=\"T_3cd74_\" ><thead>    <tr>        <th class=\"blank level0\" ></th>        <th class=\"col_heading level0 col0\" >missing rows</th>        <th class=\"col_heading level0 col1\" >percentage</th>    </tr></thead><tbody>\n",
       "                <tr>\n",
       "                        <th id=\"T_3cd74_level0_row0\" class=\"row_heading level0 row0\" >ZipCode</th>\n",
       "                        <td id=\"T_3cd74_row0_col0\" class=\"data row0 col0\" >13</td>\n",
       "                        <td id=\"T_3cd74_row0_col1\" class=\"data row0 col1\" >1.884</td>\n",
       "            </tr>\n",
       "            <tr>\n",
       "                        <th id=\"T_3cd74_level0_row1\" class=\"row_heading level0 row1\" >Male</th>\n",
       "                        <td id=\"T_3cd74_row1_col0\" class=\"data row1 col0\" >12</td>\n",
       "                        <td id=\"T_3cd74_row1_col1\" class=\"data row1 col1\" >1.739</td>\n",
       "            </tr>\n",
       "            <tr>\n",
       "                        <th id=\"T_3cd74_level0_row2\" class=\"row_heading level0 row2\" >EducationLevel</th>\n",
       "                        <td id=\"T_3cd74_row2_col0\" class=\"data row2 col0\" >9</td>\n",
       "                        <td id=\"T_3cd74_row2_col1\" class=\"data row2 col1\" >1.304</td>\n",
       "            </tr>\n",
       "            <tr>\n",
       "                        <th id=\"T_3cd74_level0_row3\" class=\"row_heading level0 row3\" >Ethnicity</th>\n",
       "                        <td id=\"T_3cd74_row3_col0\" class=\"data row3 col0\" >9</td>\n",
       "                        <td id=\"T_3cd74_row3_col1\" class=\"data row3 col1\" >1.304</td>\n",
       "            </tr>\n",
       "            <tr>\n",
       "                        <th id=\"T_3cd74_level0_row4\" class=\"row_heading level0 row4\" >Married</th>\n",
       "                        <td id=\"T_3cd74_row4_col0\" class=\"data row4 col0\" >6</td>\n",
       "                        <td id=\"T_3cd74_row4_col1\" class=\"data row4 col1\" >0.87</td>\n",
       "            </tr>\n",
       "            <tr>\n",
       "                        <th id=\"T_3cd74_level0_row5\" class=\"row_heading level0 row5\" >BankCustomer</th>\n",
       "                        <td id=\"T_3cd74_row5_col0\" class=\"data row5 col0\" >6</td>\n",
       "                        <td id=\"T_3cd74_row5_col1\" class=\"data row5 col1\" >0.87</td>\n",
       "            </tr>\n",
       "    </tbody></table>"
      ],
      "text/plain": [
       "<pandas.io.formats.style.Styler at 0x7fa7a6925b10>"
      ]
     },
     "execution_count": 9,
     "metadata": {},
     "output_type": "execute_result"
    }
   ],
   "source": [
    "# check missing values in categorical variables\n",
    "\n",
    "# check missing values in categorical variables\n",
    "null_catcol = df[categorical].columns[df[categorical].isna().any()]\n",
    "\n",
    "null_catdt = df[null_catcol].isna().sum().rename('missing rows').to_frame()\n",
    "null_catdt['percentage'] = round(null_catdt['missing rows'] / df[categorical].shape[0] * 100, 3)\n",
    "null_catdt['percentage'] = null_catdt['percentage'].astype('str')\n",
    "\n",
    "null_catdt.sort_values('missing rows', ascending=False).style.background_gradient('Reds')"
   ]
  },
  {
   "cell_type": "code",
   "execution_count": 10,
   "metadata": {
    "execution": {
     "iopub.execute_input": "2021-03-11T05:09:45.572019Z",
     "iopub.status.busy": "2021-03-11T05:09:45.571327Z",
     "iopub.status.idle": "2021-03-11T05:09:45.649147Z",
     "shell.execute_reply": "2021-03-11T05:09:45.649665Z"
    },
    "papermill": {
     "duration": 0.11116,
     "end_time": "2021-03-11T05:09:45.649865",
     "exception": false,
     "start_time": "2021-03-11T05:09:45.538705",
     "status": "completed"
    },
    "tags": []
   },
   "outputs": [
    {
     "data": {
      "text/plain": [
       "Male              0\n",
       "Married           0\n",
       "BankCustomer      0\n",
       "EducationLevel    0\n",
       "Ethnicity         0\n",
       "PriorDefault      0\n",
       "Employed          0\n",
       "DriversLicense    0\n",
       "Citizen           0\n",
       "ZipCode           0\n",
       "Approved          0\n",
       "dtype: int64"
      ]
     },
     "execution_count": 10,
     "metadata": {},
     "output_type": "execute_result"
    }
   ],
   "source": [
    "# Iterate over each column of cc_apps\n",
    "for col in df[categorical].columns:\n",
    "        # Impute with the most frequent value\n",
    "        df[categorical] = df[categorical].fillna(df[categorical][col].value_counts().index[0])\n",
    "\n",
    "# Count the number of NaNs in the dataset and print the counts to verify\n",
    "df[categorical].isna().sum()"
   ]
  },
  {
   "cell_type": "markdown",
   "metadata": {
    "papermill": {
     "duration": 0.029822,
     "end_time": "2021-03-11T05:09:45.709258",
     "exception": false,
     "start_time": "2021-03-11T05:09:45.679436",
     "status": "completed"
    },
    "tags": []
   },
   "source": [
    "### Numerical Data"
   ]
  },
  {
   "cell_type": "code",
   "execution_count": 11,
   "metadata": {
    "execution": {
     "iopub.execute_input": "2021-03-11T05:09:45.775805Z",
     "iopub.status.busy": "2021-03-11T05:09:45.774849Z",
     "iopub.status.idle": "2021-03-11T05:09:45.779155Z",
     "shell.execute_reply": "2021-03-11T05:09:45.778473Z"
    },
    "papermill": {
     "duration": 0.040794,
     "end_time": "2021-03-11T05:09:45.779320",
     "exception": false,
     "start_time": "2021-03-11T05:09:45.738526",
     "status": "completed"
    },
    "tags": []
   },
   "outputs": [
    {
     "name": "stdout",
     "output_type": "stream",
     "text": [
      "There are 5 numerical variables\n",
      "\n",
      "The numerical variables are : ['Age', 'Debt', 'YearsEmployed', 'CreditScore', 'Income']\n"
     ]
    }
   ],
   "source": [
    "# find numerical variables\n",
    "\n",
    "numerical = [var for var in df.columns if df[var].dtype!='O']\n",
    "\n",
    "print('There are {} numerical variables\\n'.format(len(numerical)))\n",
    "\n",
    "print('The numerical variables are :', numerical)"
   ]
  },
  {
   "cell_type": "code",
   "execution_count": 12,
   "metadata": {
    "execution": {
     "iopub.execute_input": "2021-03-11T05:09:45.849925Z",
     "iopub.status.busy": "2021-03-11T05:09:45.849024Z",
     "iopub.status.idle": "2021-03-11T05:09:45.868382Z",
     "shell.execute_reply": "2021-03-11T05:09:45.867793Z"
    },
    "papermill": {
     "duration": 0.058078,
     "end_time": "2021-03-11T05:09:45.868550",
     "exception": false,
     "start_time": "2021-03-11T05:09:45.810472",
     "status": "completed"
    },
    "tags": []
   },
   "outputs": [
    {
     "data": {
      "text/html": [
       "<style  type=\"text/css\" >\n",
       "#T_5d9f6_row0_col0{\n",
       "            background-color:  #f7fbff;\n",
       "            color:  #000000;\n",
       "        }</style><table id=\"T_5d9f6_\" ><thead>    <tr>        <th class=\"blank level0\" ></th>        <th class=\"col_heading level0 col0\" >missing rows</th>        <th class=\"col_heading level0 col1\" >percentage</th>    </tr></thead><tbody>\n",
       "                <tr>\n",
       "                        <th id=\"T_5d9f6_level0_row0\" class=\"row_heading level0 row0\" >Age</th>\n",
       "                        <td id=\"T_5d9f6_row0_col0\" class=\"data row0 col0\" >12</td>\n",
       "                        <td id=\"T_5d9f6_row0_col1\" class=\"data row0 col1\" >1.739</td>\n",
       "            </tr>\n",
       "    </tbody></table>"
      ],
      "text/plain": [
       "<pandas.io.formats.style.Styler at 0x7fa7a6904550>"
      ]
     },
     "execution_count": 12,
     "metadata": {},
     "output_type": "execute_result"
    }
   ],
   "source": [
    "# check missing values in numerical variables\n",
    "null_numcol = df[numerical].columns[df[numerical].isna().any()]\n",
    "\n",
    "null_numdt = df[null_numcol].isna().sum().rename('missing rows').to_frame()\n",
    "null_numdt['percentage'] = round(null_numdt['missing rows'] / df[numerical].shape[0] * 100, 3)\n",
    "null_numdt['percentage'] = null_numdt['percentage'].astype('str')\n",
    "\n",
    "null_numdt.sort_values('missing rows', ascending=False).style.background_gradient('Blues')"
   ]
  },
  {
   "cell_type": "code",
   "execution_count": 13,
   "metadata": {
    "execution": {
     "iopub.execute_input": "2021-03-11T05:09:45.947669Z",
     "iopub.status.busy": "2021-03-11T05:09:45.944578Z",
     "iopub.status.idle": "2021-03-11T05:09:45.953205Z",
     "shell.execute_reply": "2021-03-11T05:09:45.952473Z"
    },
    "papermill": {
     "duration": 0.054164,
     "end_time": "2021-03-11T05:09:45.953393",
     "exception": false,
     "start_time": "2021-03-11T05:09:45.899229",
     "status": "completed"
    },
    "tags": []
   },
   "outputs": [
    {
     "data": {
      "text/plain": [
       "Male              0\n",
       "Age               0\n",
       "Debt              0\n",
       "Married           0\n",
       "BankCustomer      0\n",
       "EducationLevel    0\n",
       "Ethnicity         0\n",
       "YearsEmployed     0\n",
       "PriorDefault      0\n",
       "Employed          0\n",
       "CreditScore       0\n",
       "DriversLicense    0\n",
       "Citizen           0\n",
       "ZipCode           0\n",
       "Income            0\n",
       "Approved          0\n",
       "dtype: int64"
      ]
     },
     "execution_count": 13,
     "metadata": {},
     "output_type": "execute_result"
    }
   ],
   "source": [
    "# Impute the missing values with mean imputation\n",
    "df.fillna(df.mean(), inplace=True)\n",
    "df.isna().sum()"
   ]
  },
  {
   "cell_type": "markdown",
   "metadata": {
    "papermill": {
     "duration": 0.031157,
     "end_time": "2021-03-11T05:09:46.016405",
     "exception": false,
     "start_time": "2021-03-11T05:09:45.985248",
     "status": "completed"
    },
    "tags": []
   },
   "source": [
    "We can see that there are no missing values in dataset."
   ]
  },
  {
   "cell_type": "markdown",
   "metadata": {
    "papermill": {
     "duration": 0.030956,
     "end_time": "2021-03-11T05:09:46.079666",
     "exception": false,
     "start_time": "2021-03-11T05:09:46.048710",
     "status": "completed"
    },
    "tags": []
   },
   "source": [
    "# 5. Encode categorical variables\n",
    "\n",
    "<p>The missing values are now successfully handled.</p>\n",
    "<p>There is still some minor but essential data preprocessing needed before we proceed towards building our machine learning model.\n",
    "<p>First, we will be converting all the non-numeric values into numeric ones. We do this because not only it results in a faster computation but also many machine learning models (like XGBoost) (and especially the ones developed using scikit-learn) require the data to be in a strictly numeric format. We will do this by using a technique called <a href=\"http://scikit-learn.org/stable/modules/generated/sklearn.preprocessing.LabelEncoder.html\">label encoding</a>.</p>"
   ]
  },
  {
   "cell_type": "code",
   "execution_count": 14,
   "metadata": {
    "execution": {
     "iopub.execute_input": "2021-03-11T05:09:46.148353Z",
     "iopub.status.busy": "2021-03-11T05:09:46.147597Z",
     "iopub.status.idle": "2021-03-11T05:09:46.444509Z",
     "shell.execute_reply": "2021-03-11T05:09:46.445029Z"
    },
    "papermill": {
     "duration": 0.334265,
     "end_time": "2021-03-11T05:09:46.445229",
     "exception": false,
     "start_time": "2021-03-11T05:09:46.110964",
     "status": "completed"
    },
    "tags": []
   },
   "outputs": [],
   "source": [
    "# Import LabelEncoder\n",
    "from sklearn.preprocessing import LabelEncoder\n",
    "\n",
    "# Instantiate LabelEncoder\n",
    "le=LabelEncoder()\n",
    "\n",
    "# Iterate over all the values of each column and extract their dtypes\n",
    "for col in df.columns.values:\n",
    "    # Compare if the dtype is object\n",
    "    if df[col].dtypes=='object':\n",
    "    # Use LabelEncoder to do the numeric transformation\n",
    "        df[col]=le.fit_transform(df[col])"
   ]
  },
  {
   "cell_type": "code",
   "execution_count": 15,
   "metadata": {
    "execution": {
     "iopub.execute_input": "2021-03-11T05:09:46.512676Z",
     "iopub.status.busy": "2021-03-11T05:09:46.511903Z",
     "iopub.status.idle": "2021-03-11T05:09:46.532107Z",
     "shell.execute_reply": "2021-03-11T05:09:46.531563Z"
    },
    "papermill": {
     "duration": 0.055623,
     "end_time": "2021-03-11T05:09:46.532305",
     "exception": false,
     "start_time": "2021-03-11T05:09:46.476682",
     "status": "completed"
    },
    "tags": []
   },
   "outputs": [
    {
     "data": {
      "text/html": [
       "<div>\n",
       "<style scoped>\n",
       "    .dataframe tbody tr th:only-of-type {\n",
       "        vertical-align: middle;\n",
       "    }\n",
       "\n",
       "    .dataframe tbody tr th {\n",
       "        vertical-align: top;\n",
       "    }\n",
       "\n",
       "    .dataframe thead th {\n",
       "        text-align: right;\n",
       "    }\n",
       "</style>\n",
       "<table border=\"1\" class=\"dataframe\">\n",
       "  <thead>\n",
       "    <tr style=\"text-align: right;\">\n",
       "      <th></th>\n",
       "      <th>Male</th>\n",
       "      <th>Age</th>\n",
       "      <th>Debt</th>\n",
       "      <th>Married</th>\n",
       "      <th>BankCustomer</th>\n",
       "      <th>EducationLevel</th>\n",
       "      <th>Ethnicity</th>\n",
       "      <th>YearsEmployed</th>\n",
       "      <th>PriorDefault</th>\n",
       "      <th>Employed</th>\n",
       "      <th>CreditScore</th>\n",
       "      <th>DriversLicense</th>\n",
       "      <th>Citizen</th>\n",
       "      <th>ZipCode</th>\n",
       "      <th>Income</th>\n",
       "      <th>Approved</th>\n",
       "    </tr>\n",
       "  </thead>\n",
       "  <tbody>\n",
       "    <tr>\n",
       "      <th>0</th>\n",
       "      <td>1</td>\n",
       "      <td>30.83</td>\n",
       "      <td>0.000</td>\n",
       "      <td>2</td>\n",
       "      <td>1</td>\n",
       "      <td>13</td>\n",
       "      <td>8</td>\n",
       "      <td>1.25</td>\n",
       "      <td>1</td>\n",
       "      <td>1</td>\n",
       "      <td>1</td>\n",
       "      <td>0</td>\n",
       "      <td>0</td>\n",
       "      <td>68</td>\n",
       "      <td>0</td>\n",
       "      <td>0</td>\n",
       "    </tr>\n",
       "    <tr>\n",
       "      <th>1</th>\n",
       "      <td>0</td>\n",
       "      <td>58.67</td>\n",
       "      <td>4.460</td>\n",
       "      <td>2</td>\n",
       "      <td>1</td>\n",
       "      <td>11</td>\n",
       "      <td>4</td>\n",
       "      <td>3.04</td>\n",
       "      <td>1</td>\n",
       "      <td>1</td>\n",
       "      <td>6</td>\n",
       "      <td>0</td>\n",
       "      <td>0</td>\n",
       "      <td>11</td>\n",
       "      <td>560</td>\n",
       "      <td>0</td>\n",
       "    </tr>\n",
       "    <tr>\n",
       "      <th>2</th>\n",
       "      <td>0</td>\n",
       "      <td>24.50</td>\n",
       "      <td>0.500</td>\n",
       "      <td>2</td>\n",
       "      <td>1</td>\n",
       "      <td>11</td>\n",
       "      <td>4</td>\n",
       "      <td>1.50</td>\n",
       "      <td>1</td>\n",
       "      <td>0</td>\n",
       "      <td>0</td>\n",
       "      <td>0</td>\n",
       "      <td>0</td>\n",
       "      <td>96</td>\n",
       "      <td>824</td>\n",
       "      <td>0</td>\n",
       "    </tr>\n",
       "    <tr>\n",
       "      <th>3</th>\n",
       "      <td>1</td>\n",
       "      <td>27.83</td>\n",
       "      <td>1.540</td>\n",
       "      <td>2</td>\n",
       "      <td>1</td>\n",
       "      <td>13</td>\n",
       "      <td>8</td>\n",
       "      <td>3.75</td>\n",
       "      <td>1</td>\n",
       "      <td>1</td>\n",
       "      <td>5</td>\n",
       "      <td>1</td>\n",
       "      <td>0</td>\n",
       "      <td>31</td>\n",
       "      <td>3</td>\n",
       "      <td>0</td>\n",
       "    </tr>\n",
       "    <tr>\n",
       "      <th>4</th>\n",
       "      <td>1</td>\n",
       "      <td>20.17</td>\n",
       "      <td>5.625</td>\n",
       "      <td>2</td>\n",
       "      <td>1</td>\n",
       "      <td>13</td>\n",
       "      <td>8</td>\n",
       "      <td>1.71</td>\n",
       "      <td>1</td>\n",
       "      <td>0</td>\n",
       "      <td>0</td>\n",
       "      <td>0</td>\n",
       "      <td>2</td>\n",
       "      <td>37</td>\n",
       "      <td>0</td>\n",
       "      <td>0</td>\n",
       "    </tr>\n",
       "  </tbody>\n",
       "</table>\n",
       "</div>"
      ],
      "text/plain": [
       "   Male    Age   Debt  Married  BankCustomer  EducationLevel  Ethnicity  \\\n",
       "0     1  30.83  0.000        2             1              13          8   \n",
       "1     0  58.67  4.460        2             1              11          4   \n",
       "2     0  24.50  0.500        2             1              11          4   \n",
       "3     1  27.83  1.540        2             1              13          8   \n",
       "4     1  20.17  5.625        2             1              13          8   \n",
       "\n",
       "   YearsEmployed  PriorDefault  Employed  CreditScore  DriversLicense  \\\n",
       "0           1.25             1         1            1               0   \n",
       "1           3.04             1         1            6               0   \n",
       "2           1.50             1         0            0               0   \n",
       "3           3.75             1         1            5               1   \n",
       "4           1.71             1         0            0               0   \n",
       "\n",
       "   Citizen  ZipCode  Income  Approved  \n",
       "0        0       68       0         0  \n",
       "1        0       11     560         0  \n",
       "2        0       96     824         0  \n",
       "3        0       31       3         0  \n",
       "4        2       37       0         0  "
      ]
     },
     "execution_count": 15,
     "metadata": {},
     "output_type": "execute_result"
    }
   ],
   "source": [
    "df.head()"
   ]
  },
  {
   "cell_type": "markdown",
   "metadata": {
    "papermill": {
     "duration": 0.03163,
     "end_time": "2021-03-11T05:09:46.595942",
     "exception": false,
     "start_time": "2021-03-11T05:09:46.564312",
     "status": "completed"
    },
    "tags": []
   },
   "source": [
    "# 6. Split data into separate training and test set\n",
    "<p>We have successfully converted all the non-numeric values to numeric ones.</p>\n",
    "<p>Now, we will split our data into train set and test set to prepare our data for two different phases of machine learning modeling: training and testing. Ideally, no information from the test data should be used to scale the training data or should be used to direct the training process of a machine learning model. Hence, we first split the data and then apply the scaling.</p>\n",
    "<p>Also, features like <code>DriversLicense</code> and <code>ZipCode</code> are not as important as the other features in the dataset for predicting credit card approvals. We should drop them to design our machine learning model with the best set of features. In Data Science literature, this is often referred to as <em>feature selection</em>. </p>"
   ]
  },
  {
   "cell_type": "code",
   "execution_count": 16,
   "metadata": {
    "execution": {
     "iopub.execute_input": "2021-03-11T05:09:46.665861Z",
     "iopub.status.busy": "2021-03-11T05:09:46.665113Z",
     "iopub.status.idle": "2021-03-11T05:09:46.759069Z",
     "shell.execute_reply": "2021-03-11T05:09:46.758308Z"
    },
    "papermill": {
     "duration": 0.131894,
     "end_time": "2021-03-11T05:09:46.759442",
     "exception": false,
     "start_time": "2021-03-11T05:09:46.627548",
     "status": "completed"
    },
    "tags": []
   },
   "outputs": [],
   "source": [
    "# Import train_test_split\n",
    "from sklearn.model_selection import train_test_split\n",
    "\n",
    "# Drop the features 11 and 13 and convert the DataFrame to a NumPy array\n",
    "df = df.drop(['DriversLicense', 'ZipCode'], axis=1)\n",
    "df = df.values\n",
    "\n",
    "# Segregate features and labels into separate variables\n",
    "X,y = df[:,0:13] , df[:,13]\n",
    "\n",
    "# Split into train and test sets\n",
    "X_train, X_test, y_train, y_test = train_test_split(X\n",
    "                                                    ,\n",
    "                                                    y,\n",
    "                                                    test_size=0.33,\n",
    "                                                    random_state=42)"
   ]
  },
  {
   "cell_type": "code",
   "execution_count": 17,
   "metadata": {
    "execution": {
     "iopub.execute_input": "2021-03-11T05:09:46.830330Z",
     "iopub.status.busy": "2021-03-11T05:09:46.829413Z",
     "iopub.status.idle": "2021-03-11T05:09:46.834668Z",
     "shell.execute_reply": "2021-03-11T05:09:46.833972Z"
    },
    "papermill": {
     "duration": 0.043172,
     "end_time": "2021-03-11T05:09:46.834833",
     "exception": false,
     "start_time": "2021-03-11T05:09:46.791661",
     "status": "completed"
    },
    "tags": []
   },
   "outputs": [],
   "source": [
    "# Import MinMaxScaler\n",
    "from sklearn.preprocessing import MinMaxScaler\n",
    "\n",
    "# Instantiate MinMaxScaler and use it to rescale X_train and X_test\n",
    "scaler = MinMaxScaler(feature_range=(0, 1))\n",
    "rescaledX_train = scaler.fit_transform(X_train)\n",
    "rescaledX_test = scaler.transform(X_test)"
   ]
  },
  {
   "cell_type": "markdown",
   "metadata": {
    "papermill": {
     "duration": 0.031743,
     "end_time": "2021-03-11T05:09:46.898383",
     "exception": false,
     "start_time": "2021-03-11T05:09:46.866640",
     "status": "completed"
    },
    "tags": []
   },
   "source": [
    "# 7. Fitting a logistic regression model to the train set\n",
    "<p>Essentially, predicting if a credit card application will be approved or not is a <a href=\"https://en.wikipedia.org/wiki/Statistical_classification\">classification</a> task. <a href=\"http://archive.ics.uci.edu/ml/machine-learning-databases/credit-screening/crx.names\">According to UCI</a>, our dataset contains more instances that correspond to \"Denied\" status than instances corresponding to \"Approved\" status. Specifically, out of 690 instances, there are 383 (55.5%) applications that got denied and 307 (44.5%) applications that got approved. </p>\n",
    "<p>This gives us a benchmark. A good machine learning model should be able to accurately predict the status of the applications with respect to these statistics.</p>\n",
    "<p>Which model should we pick? A question to ask is: <em>are the features that affect the credit card approval decision process correlated with each other?</em> Although we can measure correlation, that is outside the scope of this notebook, so we'll rely on our intuition that they indeed are correlated for now. Because of this correlation, we'll take advantage of the fact that generalized linear models perform well in these cases. Let's start our machine learning modeling with a Logistic Regression model (a generalized linear model).</p>"
   ]
  },
  {
   "cell_type": "code",
   "execution_count": 18,
   "metadata": {
    "execution": {
     "iopub.execute_input": "2021-03-11T05:09:46.969779Z",
     "iopub.status.busy": "2021-03-11T05:09:46.968717Z",
     "iopub.status.idle": "2021-03-11T05:09:47.114922Z",
     "shell.execute_reply": "2021-03-11T05:09:47.115402Z"
    },
    "papermill": {
     "duration": 0.185652,
     "end_time": "2021-03-11T05:09:47.115587",
     "exception": false,
     "start_time": "2021-03-11T05:09:46.929935",
     "status": "completed"
    },
    "tags": []
   },
   "outputs": [
    {
     "data": {
      "text/plain": [
       "LogisticRegression()"
      ]
     },
     "execution_count": 18,
     "metadata": {},
     "output_type": "execute_result"
    }
   ],
   "source": [
    "# Import LogisticRegression\n",
    "from sklearn.linear_model import LogisticRegression\n",
    "\n",
    "# Instantiate a LogisticRegression classifier with default parameter values\n",
    "logreg = LogisticRegression()\n",
    "\n",
    "# Fit logreg to the train set\n",
    "logreg.fit(rescaledX_train,y_train)"
   ]
  },
  {
   "cell_type": "markdown",
   "metadata": {
    "papermill": {
     "duration": 0.032264,
     "end_time": "2021-03-11T05:09:47.180355",
     "exception": false,
     "start_time": "2021-03-11T05:09:47.148091",
     "status": "completed"
    },
    "tags": []
   },
   "source": [
    "# 8 Making predictions and evaluating performance\n",
    "<p>But how well does our model perform? </p>\n",
    "<p>We will now evaluate our model on the test set with respect to <a href=\"https://developers.google.com/machine-learning/crash-course/classification/accuracy\">classification accuracy</a>. But we will also take a look the model's <a href=\"http://www.dataschool.io/simple-guide-to-confusion-matrix-terminology/\">confusion matrix</a>. In the case of predicting credit card applications, it is equally important to see if our machine learning model is able to predict the approval status of the applications as denied that originally got denied. If our model is not performing well in this aspect, then it might end up approving the application that should have been approved. The confusion matrix helps us to view our model's performance from these aspects.  </p>"
   ]
  },
  {
   "cell_type": "code",
   "execution_count": 19,
   "metadata": {
    "execution": {
     "iopub.execute_input": "2021-03-11T05:09:47.251421Z",
     "iopub.status.busy": "2021-03-11T05:09:47.250475Z",
     "iopub.status.idle": "2021-03-11T05:09:47.254176Z",
     "shell.execute_reply": "2021-03-11T05:09:47.254990Z"
    },
    "papermill": {
     "duration": 0.042431,
     "end_time": "2021-03-11T05:09:47.255178",
     "exception": false,
     "start_time": "2021-03-11T05:09:47.212747",
     "status": "completed"
    },
    "tags": []
   },
   "outputs": [],
   "source": [
    "y_pred_train = logreg.predict(rescaledX_train)\n",
    "y_pred = logreg.predict(rescaledX_test)"
   ]
  },
  {
   "cell_type": "code",
   "execution_count": 20,
   "metadata": {
    "execution": {
     "iopub.execute_input": "2021-03-11T05:09:47.326989Z",
     "iopub.status.busy": "2021-03-11T05:09:47.326302Z",
     "iopub.status.idle": "2021-03-11T05:09:47.329416Z",
     "shell.execute_reply": "2021-03-11T05:09:47.330014Z"
    },
    "papermill": {
     "duration": 0.041715,
     "end_time": "2021-03-11T05:09:47.330186",
     "exception": false,
     "start_time": "2021-03-11T05:09:47.288471",
     "status": "completed"
    },
    "tags": []
   },
   "outputs": [
    {
     "name": "stdout",
     "output_type": "stream",
     "text": [
      "Training-set accuracy score: 0.8745\n"
     ]
    }
   ],
   "source": [
    "from sklearn.metrics import accuracy_score\n",
    "print('Training-set accuracy score: {0:0.4f}'. format(accuracy_score(y_train, y_pred_train)))"
   ]
  },
  {
   "cell_type": "code",
   "execution_count": 21,
   "metadata": {
    "execution": {
     "iopub.execute_input": "2021-03-11T05:09:47.402769Z",
     "iopub.status.busy": "2021-03-11T05:09:47.402076Z",
     "iopub.status.idle": "2021-03-11T05:09:47.411682Z",
     "shell.execute_reply": "2021-03-11T05:09:47.412402Z"
    },
    "papermill": {
     "duration": 0.046478,
     "end_time": "2021-03-11T05:09:47.412608",
     "exception": false,
     "start_time": "2021-03-11T05:09:47.366130",
     "status": "completed"
    },
    "tags": []
   },
   "outputs": [
    {
     "name": "stdout",
     "output_type": "stream",
     "text": [
      "Training set score: 0.8745\n",
      "Test set score: 0.8421\n"
     ]
    }
   ],
   "source": [
    "# print the scores on training and test set\n",
    "\n",
    "print('Training set score: {:.4f}'.format(logreg.score(rescaledX_train, y_train)))\n",
    "\n",
    "print('Test set score: {:.4f}'.format(logreg.score(rescaledX_test,y_test)))"
   ]
  },
  {
   "cell_type": "markdown",
   "metadata": {
    "papermill": {
     "duration": 0.032908,
     "end_time": "2021-03-11T05:09:47.478835",
     "exception": false,
     "start_time": "2021-03-11T05:09:47.445927",
     "status": "completed"
    },
    "tags": []
   },
   "source": [
    "The training-set accuracy score is 0.8745 while the test-set accuracy to be 0.8421. These two values are quite comparable. So, there is no sign of overfitting."
   ]
  },
  {
   "cell_type": "markdown",
   "metadata": {
    "papermill": {
     "duration": 0.033319,
     "end_time": "2021-03-11T05:09:47.546253",
     "exception": false,
     "start_time": "2021-03-11T05:09:47.512934",
     "status": "completed"
    },
    "tags": []
   },
   "source": [
    "# 9. Confusion matrix"
   ]
  },
  {
   "cell_type": "code",
   "execution_count": 22,
   "metadata": {
    "execution": {
     "iopub.execute_input": "2021-03-11T05:09:47.620114Z",
     "iopub.status.busy": "2021-03-11T05:09:47.619129Z",
     "iopub.status.idle": "2021-03-11T05:09:47.630331Z",
     "shell.execute_reply": "2021-03-11T05:09:47.631551Z"
    },
    "papermill": {
     "duration": 0.052159,
     "end_time": "2021-03-11T05:09:47.631785",
     "exception": false,
     "start_time": "2021-03-11T05:09:47.579626",
     "status": "completed"
    },
    "tags": []
   },
   "outputs": [
    {
     "name": "stdout",
     "output_type": "stream",
     "text": [
      "Confusion matrix\n",
      "\n",
      " [[94  9]\n",
      " [27 98]]\n",
      "\n",
      "True Positives(TP) =  94\n",
      "\n",
      "True Negatives(TN) =  98\n",
      "\n",
      "False Positives(FP) =  9\n",
      "\n",
      "False Negatives(FN) =  27\n"
     ]
    }
   ],
   "source": [
    "# Print the Confusion Matrix and slice it into four pieces\n",
    "\n",
    "from sklearn.metrics import confusion_matrix\n",
    "\n",
    "cm = confusion_matrix(y_test, y_pred)\n",
    "\n",
    "print('Confusion matrix\\n\\n', cm)\n",
    "\n",
    "print('\\nTrue Positives(TP) = ', cm[0,0])\n",
    "\n",
    "print('\\nTrue Negatives(TN) = ', cm[1,1])\n",
    "\n",
    "print('\\nFalse Positives(FP) = ', cm[0,1])\n",
    "\n",
    "print('\\nFalse Negatives(FN) = ', cm[1,0])"
   ]
  },
  {
   "cell_type": "code",
   "execution_count": 23,
   "metadata": {
    "execution": {
     "iopub.execute_input": "2021-03-11T05:09:47.703691Z",
     "iopub.status.busy": "2021-03-11T05:09:47.702714Z",
     "iopub.status.idle": "2021-03-11T05:09:47.952531Z",
     "shell.execute_reply": "2021-03-11T05:09:47.951912Z"
    },
    "papermill": {
     "duration": 0.28673,
     "end_time": "2021-03-11T05:09:47.952683",
     "exception": false,
     "start_time": "2021-03-11T05:09:47.665953",
     "status": "completed"
    },
    "tags": []
   },
   "outputs": [
    {
     "data": {
      "text/plain": [
       "<AxesSubplot:>"
      ]
     },
     "execution_count": 23,
     "metadata": {},
     "output_type": "execute_result"
    },
    {
     "data": {
      "image/png": "[encoded data removed]",
      "text/plain": [
       "<Figure size 432x288 with 2 Axes>"
      ]
     },
     "metadata": {
      "needs_background": "light"
     },
     "output_type": "display_data"
    }
   ],
   "source": [
    "# visualize confusion matrix with seaborn heatmap\n",
    "\n",
    "cm_matrix = pd.DataFrame(data=cm, columns=['Actual Positive:1', 'Actual Negative:0'], \n",
    "                                 index=['Predict Positive:1', 'Predict Negative:0'])\n",
    "\n",
    "sns.heatmap(cm_matrix, annot=True, fmt='d', cmap='YlGnBu')"
   ]
  },
  {
   "cell_type": "code",
   "execution_count": 24,
   "metadata": {
    "execution": {
     "iopub.execute_input": "2021-03-11T05:09:48.029411Z",
     "iopub.status.busy": "2021-03-11T05:09:48.028333Z",
     "iopub.status.idle": "2021-03-11T05:09:48.042621Z",
     "shell.execute_reply": "2021-03-11T05:09:48.041064Z"
    },
    "papermill": {
     "duration": 0.054756,
     "end_time": "2021-03-11T05:09:48.042845",
     "exception": false,
     "start_time": "2021-03-11T05:09:47.988089",
     "status": "completed"
    },
    "tags": []
   },
   "outputs": [
    {
     "name": "stdout",
     "output_type": "stream",
     "text": [
      "              precision    recall  f1-score   support\n",
      "\n",
      "         0.0       0.78      0.91      0.84       103\n",
      "         1.0       0.92      0.78      0.84       125\n",
      "\n",
      "    accuracy                           0.84       228\n",
      "   macro avg       0.85      0.85      0.84       228\n",
      "weighted avg       0.85      0.84      0.84       228\n",
      "\n"
     ]
    }
   ],
   "source": [
    "from sklearn.metrics import classification_report\n",
    "\n",
    "print(classification_report(y_test, y_pred))"
   ]
  },
  {
   "cell_type": "code",
   "execution_count": 25,
   "metadata": {
    "execution": {
     "iopub.execute_input": "2021-03-11T05:09:48.123105Z",
     "iopub.status.busy": "2021-03-11T05:09:48.122115Z",
     "iopub.status.idle": "2021-03-11T05:09:48.126238Z",
     "shell.execute_reply": "2021-03-11T05:09:48.125726Z"
    },
    "papermill": {
     "duration": 0.04762,
     "end_time": "2021-03-11T05:09:48.126399",
     "exception": false,
     "start_time": "2021-03-11T05:09:48.078779",
     "status": "completed"
    },
    "tags": []
   },
   "outputs": [
    {
     "name": "stdout",
     "output_type": "stream",
     "text": [
      "Classification accuracy : 0.8421\n"
     ]
    }
   ],
   "source": [
    "TP = cm[0,0]\n",
    "TN = cm[1,1]\n",
    "FP = cm[0,1]\n",
    "FN = cm[1,0]\n",
    "\n",
    "# print classification accuracy\n",
    "\n",
    "classification_accuracy = (TP + TN) / float(TP + TN + FP + FN)\n",
    "\n",
    "print('Classification accuracy : {0:0.4f}'.format(classification_accuracy))"
   ]
  },
  {
   "cell_type": "code",
   "execution_count": 26,
   "metadata": {
    "execution": {
     "iopub.execute_input": "2021-03-11T05:09:48.205138Z",
     "iopub.status.busy": "2021-03-11T05:09:48.204223Z",
     "iopub.status.idle": "2021-03-11T05:09:48.208397Z",
     "shell.execute_reply": "2021-03-11T05:09:48.207772Z"
    },
    "papermill": {
     "duration": 0.045801,
     "end_time": "2021-03-11T05:09:48.208546",
     "exception": false,
     "start_time": "2021-03-11T05:09:48.162745",
     "status": "completed"
    },
    "tags": []
   },
   "outputs": [
    {
     "name": "stdout",
     "output_type": "stream",
     "text": [
      "Classification error : 0.1579\n"
     ]
    }
   ],
   "source": [
    "# print classification error\n",
    "\n",
    "classification_error = (FP + FN) / float(TP + TN + FP + FN)\n",
    "\n",
    "print('Classification error : {0:0.4f}'.format(classification_error))"
   ]
  },
  {
   "cell_type": "code",
   "execution_count": 27,
   "metadata": {
    "execution": {
     "iopub.execute_input": "2021-03-11T05:09:48.287992Z",
     "iopub.status.busy": "2021-03-11T05:09:48.287222Z",
     "iopub.status.idle": "2021-03-11T05:09:48.291550Z",
     "shell.execute_reply": "2021-03-11T05:09:48.290411Z"
    },
    "papermill": {
     "duration": 0.04664,
     "end_time": "2021-03-11T05:09:48.291771",
     "exception": false,
     "start_time": "2021-03-11T05:09:48.245131",
     "status": "completed"
    },
    "tags": []
   },
   "outputs": [
    {
     "name": "stdout",
     "output_type": "stream",
     "text": [
      "Precision : 0.9126\n"
     ]
    }
   ],
   "source": [
    "# print precision score\n",
    "\n",
    "precision = TP / float(TP + FP)\n",
    "\n",
    "\n",
    "print('Precision : {0:0.4f}'.format(precision))"
   ]
  },
  {
   "cell_type": "code",
   "execution_count": 28,
   "metadata": {
    "execution": {
     "iopub.execute_input": "2021-03-11T05:09:48.377483Z",
     "iopub.status.busy": "2021-03-11T05:09:48.375157Z",
     "iopub.status.idle": "2021-03-11T05:09:48.381008Z",
     "shell.execute_reply": "2021-03-11T05:09:48.381629Z"
    },
    "papermill": {
     "duration": 0.048573,
     "end_time": "2021-03-11T05:09:48.381804",
     "exception": false,
     "start_time": "2021-03-11T05:09:48.333231",
     "status": "completed"
    },
    "tags": []
   },
   "outputs": [
    {
     "name": "stdout",
     "output_type": "stream",
     "text": [
      "Recall or Sensitivity : 0.7769\n"
     ]
    }
   ],
   "source": [
    "recall = TP / float(TP + FN)\n",
    "\n",
    "print('Recall or Sensitivity : {0:0.4f}'.format(recall))"
   ]
  },
  {
   "cell_type": "markdown",
   "metadata": {
    "papermill": {
     "duration": 0.037439,
     "end_time": "2021-03-11T05:09:48.456969",
     "exception": false,
     "start_time": "2021-03-11T05:09:48.419530",
     "status": "completed"
    },
    "tags": []
   },
   "source": [
    "# 10. Grid searching and making the model perform better\n",
    "<p>Our model was pretty good! It was able to yield an accuracy score of almost 84%.</p>\n",
    "<p>For the confusion matrix, the first element of the of the first row of the confusion matrix denotes the true negatives meaning the number of negative instances (denied applications) predicted by the model correctly. And the last element of the second row of the confusion matrix denotes the true positives meaning the number of positive instances (approved applications) predicted by the model correctly.</p>\n",
    "<p>Let's see if we can do better. We can perform a <a href=\"https://machinelearningmastery.com/how-to-tune-algorithm-parameters-with-scikit-learn/\">grid search</a> of the model parameters to improve the model's ability to predict credit card approvals.</p>\n",
    "<p><a href=\"http://scikit-learn.org/stable/modules/generated/sklearn.linear_model.LogisticRegression.html\">scikit-learn's implementation of logistic regression</a> consists of different hyperparameters but we will grid search over the following two:</p>\n",
    "<ul>\n",
    "<li>tol</li>\n",
    "<li>max_iter</li>\n",
    "</ul>"
   ]
  },
  {
   "cell_type": "code",
   "execution_count": 29,
   "metadata": {
    "execution": {
     "iopub.execute_input": "2021-03-11T05:09:48.538377Z",
     "iopub.status.busy": "2021-03-11T05:09:48.537408Z",
     "iopub.status.idle": "2021-03-11T05:09:48.540037Z",
     "shell.execute_reply": "2021-03-11T05:09:48.539362Z"
    },
    "papermill": {
     "duration": 0.045786,
     "end_time": "2021-03-11T05:09:48.540195",
     "exception": false,
     "start_time": "2021-03-11T05:09:48.494409",
     "status": "completed"
    },
    "tags": []
   },
   "outputs": [],
   "source": [
    "# Import GridSearchCV\n",
    "from sklearn.model_selection import GridSearchCV\n",
    "\n",
    "# Define the grid of values for tol and max_iter\n",
    "tol = [0.01, 0.001 ,0.0001]\n",
    "max_iter = [100, 150, 200]\n",
    "\n",
    "# Create a dictionary where tol and max_iter are keys and the lists of their values are the corresponding values\n",
    "param_grid = dict(tol=tol, max_iter=max_iter)"
   ]
  },
  {
   "cell_type": "code",
   "execution_count": 30,
   "metadata": {
    "execution": {
     "iopub.execute_input": "2021-03-11T05:09:48.625975Z",
     "iopub.status.busy": "2021-03-11T05:09:48.625034Z",
     "iopub.status.idle": "2021-03-11T05:09:49.069775Z",
     "shell.execute_reply": "2021-03-11T05:09:49.069204Z"
    },
    "papermill": {
     "duration": 0.491157,
     "end_time": "2021-03-11T05:09:49.069938",
     "exception": false,
     "start_time": "2021-03-11T05:09:48.578781",
     "status": "completed"
    },
    "tags": []
   },
   "outputs": [
    {
     "name": "stdout",
     "output_type": "stream",
     "text": [
      "Best: 0.850725 using {'max_iter': 100, 'tol': 0.01}\n"
     ]
    }
   ],
   "source": [
    "# Instantiate GridSearchCV with the required parameters\n",
    "grid_model = GridSearchCV(estimator=logreg, param_grid=param_grid, cv=5)\n",
    "\n",
    "# Use scaler to rescale X and assign it to rescaledX\n",
    "rescaledX = scaler.fit_transform(X)\n",
    "\n",
    "# Fit grid_model to the data\n",
    "grid_model_result = grid_model.fit(rescaledX, y)\n",
    "\n",
    "# Summarize results\n",
    "best_score, best_params = grid_model_result.best_score_, grid_model_result.best_params_\n",
    "print(\"Best: %f using %s\" % (best_score, best_params))"
   ]
  },
  {
   "cell_type": "markdown",
   "metadata": {
    "papermill": {
     "duration": 0.037845,
     "end_time": "2021-03-11T05:09:49.145836",
     "exception": false,
     "start_time": "2021-03-11T05:09:49.107991",
     "status": "completed"
    },
    "tags": []
   },
   "source": [
    "# 11. Results and conclusion\n",
    "<br> 1. In this project, I build a Logistic Regression model to predict whether a person's credit is received. This model produces a fairly good performance which is shown by the accuracy model of 0.8421.\n",
    "<br> 2. The training-set accuracy score is 0.8745 while the test-set accuracy to be 0.8421. These two values are quite comparable. So, there is no sign of overfitting.\n",
    "<br> 3. The Best score and best parameter each with an accuracy of 0.8507 using {'max_iter': 100, 'tol': 0.01}"
   ]
  }
 ],
 "metadata": {
  "kernelspec": {
   "display_name": "Python 3",
   "language": "python",
   "name": "python3"
  },
  "language_info": {
   "codemirror_mode": {
    "name": "ipython",
    "version": 3
   },
   "file_extension": ".py",
   "mimetype": "text/x-python",
   "name": "python",
   "nbconvert_exporter": "python",
   "pygments_lexer": "ipython3",
   "version": "3.8.3"
  },
  "papermill": {
   "default_parameters": {},
   "duration": 13.726015,
   "end_time": "2021-03-11T05:09:49.970948",
   "environment_variables": {},
   "exception": null,
   "input_path": "__notebook__.ipynb",
   "output_path": "__notebook__.ipynb",
   "parameters": {},
   "start_time": "2021-03-11T05:09:36.244933",
   "version": "2.2.2"
  }
 },
 "nbformat": 4,
 "nbformat_minor": 4
}
